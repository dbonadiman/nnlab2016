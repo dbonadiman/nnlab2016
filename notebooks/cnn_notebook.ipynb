{
 "cells": [
  {
   "cell_type": "code",
   "execution_count": 50,
   "metadata": {
    "collapsed": false
   },
   "outputs": [],
   "source": [
    "from __future__ import print_function\n",
    "import numpy as np\n",
    "np.random.seed(1337)  # for reproducibility\n",
    "\n",
    "from keras.preprocessing import sequence\n",
    "from keras.models import Sequential\n",
    "from keras.layers import Dense, Activation, Lambda\n",
    "from keras.layers import Embedding\n",
    "from keras.layers import Convolution1D\n",
    "from keras.datasets import imdb\n",
    "from keras import backend as K"
   ]
  },
  {
   "cell_type": "code",
   "execution_count": 63,
   "metadata": {
    "collapsed": true
   },
   "outputs": [],
   "source": [
    "max_features = 5000\n",
    "maxlen = 100\n",
    "batch_size = 32\n",
    "embedding_dims = 50\n",
    "out_dim = 250\n",
    "window = 3\n",
    "hidden_dims = 250\n",
    "nb_epoch = 2"
   ]
  },
  {
   "cell_type": "code",
   "execution_count": 52,
   "metadata": {
    "collapsed": true
   },
   "outputs": [],
   "source": [
    "(X_train, y_train), (X_test, y_test) = imdb.load_data(nb_words=max_features,\n",
    "                                                      test_split=0.2)"
   ]
  },
  {
   "cell_type": "code",
   "execution_count": 53,
   "metadata": {
    "collapsed": false
   },
   "outputs": [
    {
     "data": {
      "text/plain": [
       "[1,\n",
       " 20,\n",
       " 28,\n",
       " 716,\n",
       " 48,\n",
       " 495,\n",
       " 79,\n",
       " 27,\n",
       " 493,\n",
       " 8,\n",
       " 2,\n",
       " 7,\n",
       " 50,\n",
       " 5,\n",
       " 4682,\n",
       " 2,\n",
       " 10,\n",
       " 5,\n",
       " 852,\n",
       " 157,\n",
       " 11,\n",
       " 5,\n",
       " 1716,\n",
       " 3351,\n",
       " 10,\n",
       " 5,\n",
       " 500,\n",
       " 2,\n",
       " 6,\n",
       " 33,\n",
       " 256,\n",
       " 41,\n",
       " 2,\n",
       " 7,\n",
       " 17,\n",
       " 23,\n",
       " 48,\n",
       " 1537,\n",
       " 3504,\n",
       " 26,\n",
       " 269,\n",
       " 929,\n",
       " 18,\n",
       " 2,\n",
       " 7,\n",
       " 2,\n",
       " 4284,\n",
       " 8,\n",
       " 105,\n",
       " 5,\n",
       " 2,\n",
       " 182,\n",
       " 314,\n",
       " 38,\n",
       " 98,\n",
       " 103,\n",
       " 7,\n",
       " 36,\n",
       " 2184,\n",
       " 246,\n",
       " 360,\n",
       " 7,\n",
       " 19,\n",
       " 396,\n",
       " 17,\n",
       " 26,\n",
       " 269,\n",
       " 929,\n",
       " 18,\n",
       " 1769,\n",
       " 493,\n",
       " 6,\n",
       " 116,\n",
       " 7,\n",
       " 105,\n",
       " 5,\n",
       " 575,\n",
       " 182,\n",
       " 27,\n",
       " 5,\n",
       " 1002,\n",
       " 1085,\n",
       " 130,\n",
       " 62,\n",
       " 17,\n",
       " 24,\n",
       " 89,\n",
       " 17,\n",
       " 13,\n",
       " 381,\n",
       " 1421,\n",
       " 8,\n",
       " 2,\n",
       " 7,\n",
       " 5,\n",
       " 2723,\n",
       " 38,\n",
       " 325,\n",
       " 7,\n",
       " 17,\n",
       " 23,\n",
       " 93,\n",
       " 9,\n",
       " 156,\n",
       " 252,\n",
       " 19,\n",
       " 235,\n",
       " 20,\n",
       " 28,\n",
       " 5,\n",
       " 104,\n",
       " 76,\n",
       " 7,\n",
       " 17,\n",
       " 169,\n",
       " 35,\n",
       " 2,\n",
       " 17,\n",
       " 23,\n",
       " 1460,\n",
       " 7,\n",
       " 36,\n",
       " 2184,\n",
       " 934,\n",
       " 56,\n",
       " 2134,\n",
       " 6,\n",
       " 17,\n",
       " 891,\n",
       " 214,\n",
       " 11,\n",
       " 5,\n",
       " 1552,\n",
       " 6,\n",
       " 92,\n",
       " 6,\n",
       " 33,\n",
       " 256,\n",
       " 82,\n",
       " 7]"
      ]
     },
     "execution_count": 53,
     "metadata": {},
     "output_type": "execute_result"
    }
   ],
   "source": [
    "X_train[0]"
   ]
  },
  {
   "cell_type": "code",
   "execution_count": 54,
   "metadata": {
    "collapsed": false
   },
   "outputs": [
    {
     "data": {
      "text/plain": [
       "140"
      ]
     },
     "execution_count": 54,
     "metadata": {},
     "output_type": "execute_result"
    }
   ],
   "source": [
    "len(X_train[0])"
   ]
  },
  {
   "cell_type": "code",
   "execution_count": 55,
   "metadata": {
    "collapsed": false
   },
   "outputs": [
    {
     "data": {
      "text/plain": [
       "2821"
      ]
     },
     "execution_count": 55,
     "metadata": {},
     "output_type": "execute_result"
    }
   ],
   "source": [
    "max(len(ex) for ex in X_train)"
   ]
  },
  {
   "cell_type": "code",
   "execution_count": 56,
   "metadata": {
    "collapsed": false
   },
   "outputs": [
    {
     "data": {
      "text/plain": [
       "12"
      ]
     },
     "execution_count": 56,
     "metadata": {},
     "output_type": "execute_result"
    }
   ],
   "source": [
    "min(len(ex) for ex in X_train)"
   ]
  },
  {
   "cell_type": "code",
   "execution_count": 57,
   "metadata": {
    "collapsed": true
   },
   "outputs": [],
   "source": [
    "X_train = sequence.pad_sequences(X_train, maxlen=maxlen)\n",
    "X_test = sequence.pad_sequences(X_test, maxlen=maxlen)"
   ]
  },
  {
   "cell_type": "code",
   "execution_count": 58,
   "metadata": {
    "collapsed": false
   },
   "outputs": [
    {
     "data": {
      "text/plain": [
       "100"
      ]
     },
     "execution_count": 58,
     "metadata": {},
     "output_type": "execute_result"
    }
   ],
   "source": [
    "len(X_train[0])"
   ]
  },
  {
   "cell_type": "code",
   "execution_count": 59,
   "metadata": {
    "collapsed": false
   },
   "outputs": [
    {
     "data": {
      "text/plain": [
       "100"
      ]
     },
     "execution_count": 59,
     "metadata": {},
     "output_type": "execute_result"
    }
   ],
   "source": [
    "max(len(ex) for ex in X_train)"
   ]
  },
  {
   "cell_type": "code",
   "execution_count": 60,
   "metadata": {
    "collapsed": false
   },
   "outputs": [
    {
     "data": {
      "text/plain": [
       "100"
      ]
     },
     "execution_count": 60,
     "metadata": {},
     "output_type": "execute_result"
    }
   ],
   "source": [
    "min(len(ex) for ex in X_train)"
   ]
  },
  {
   "cell_type": "code",
   "execution_count": 64,
   "metadata": {
    "collapsed": true
   },
   "outputs": [],
   "source": [
    "model = Sequential()"
   ]
  },
  {
   "cell_type": "code",
   "execution_count": 65,
   "metadata": {
    "collapsed": true
   },
   "outputs": [],
   "source": [
    "model.add(Embedding(max_features,\n",
    "                    embedding_dims,\n",
    "                    input_length=maxlen))"
   ]
  },
  {
   "cell_type": "code",
   "execution_count": 66,
   "metadata": {
    "collapsed": false
   },
   "outputs": [],
   "source": [
    "model.add(Convolution1D(nb_filter=out_dim,\n",
    "                        filter_length=window,\n",
    "                        border_mode='valid',\n",
    "                        activation='tanh',\n",
    "                        subsample_length=1))"
   ]
  },
  {
   "cell_type": "code",
   "execution_count": 67,
   "metadata": {
    "collapsed": true
   },
   "outputs": [],
   "source": [
    "def max_1d(X):\n",
    "    return K.max(X, axis=1)\n",
    "\n",
    "model.add(Lambda(max_1d, output_shape=(conv_dim,)))"
   ]
  },
  {
   "cell_type": "code",
   "execution_count": 68,
   "metadata": {
    "collapsed": true
   },
   "outputs": [],
   "source": [
    "model.add(Dense(hidden_dims))"
   ]
  },
  {
   "cell_type": "code",
   "execution_count": 69,
   "metadata": {
    "collapsed": true
   },
   "outputs": [],
   "source": [
    "model.add(Activation('tanh'))"
   ]
  },
  {
   "cell_type": "code",
   "execution_count": 70,
   "metadata": {
    "collapsed": true
   },
   "outputs": [],
   "source": [
    "model.add(Dense(1))\n",
    "model.add(Activation('sigmoid'))"
   ]
  },
  {
   "cell_type": "code",
   "execution_count": 46,
   "metadata": {
    "collapsed": true
   },
   "outputs": [],
   "source": [
    "model.compile(loss='binary_crossentropy',\n",
    "              optimizer='adam',\n",
    "              metrics=['accuracy'])"
   ]
  },
  {
   "cell_type": "code",
   "execution_count": 71,
   "metadata": {
    "collapsed": false
   },
   "outputs": [
    {
     "name": "stdout",
     "output_type": "stream",
     "text": [
      "____________________________________________________________________________________________________\n",
      "Layer (type)                       Output Shape        Param #     Connected to                     \n",
      "====================================================================================================\n",
      "embedding_2 (Embedding)            (None, 100, 50)     250000      embedding_input_2[0][0]          \n",
      "____________________________________________________________________________________________________\n",
      "convolution1d_3 (Convolution1D)    (None, 98, 250)     37750       embedding_2[0][0]                \n",
      "____________________________________________________________________________________________________\n",
      "lambda_2 (Lambda)                  (None, 250)         0           convolution1d_3[0][0]            \n",
      "____________________________________________________________________________________________________\n",
      "dense_3 (Dense)                    (None, 250)         62750       lambda_2[0][0]                   \n",
      "____________________________________________________________________________________________________\n",
      "activation_3 (Activation)          (None, 250)         0           dense_3[0][0]                    \n",
      "____________________________________________________________________________________________________\n",
      "dense_4 (Dense)                    (None, 1)           251         activation_3[0][0]               \n",
      "____________________________________________________________________________________________________\n",
      "activation_4 (Activation)          (None, 1)           0           dense_4[0][0]                    \n",
      "====================================================================================================\n",
      "Total params: 350751\n",
      "____________________________________________________________________________________________________\n"
     ]
    }
   ],
   "source": [
    "model.summary()"
   ]
  },
  {
   "cell_type": "code",
   "execution_count": 49,
   "metadata": {
    "collapsed": false
   },
   "outputs": [
    {
     "name": "stdout",
     "output_type": "stream",
     "text": [
      "Train on 20000 samples, validate on 5000 samples\n",
      "Epoch 1/2\n",
      "20000/20000 [==============================] - 27s - loss: 0.2731 - acc: 0.8858 - val_loss: 0.3613 - val_acc: 0.8336\n",
      "Epoch 2/2\n",
      "20000/20000 [==============================] - 30s - loss: 0.1455 - acc: 0.9456 - val_loss: 0.4867 - val_acc: 0.8178\n"
     ]
    },
    {
     "data": {
      "text/plain": [
       "<keras.callbacks.History at 0x124064990>"
      ]
     },
     "execution_count": 49,
     "metadata": {},
     "output_type": "execute_result"
    }
   ],
   "source": [
    "model.fit(X_train, y_train,\n",
    "          batch_size=batch_size,\n",
    "          nb_epoch=nb_epoch,\n",
    "          validation_data=(X_test, y_test))"
   ]
  },
  {
   "cell_type": "code",
   "execution_count": null,
   "metadata": {
    "collapsed": true
   },
   "outputs": [],
   "source": []
  }
 ],
 "metadata": {
  "kernelspec": {
   "display_name": "Python 2",
   "language": "python",
   "name": "python2"
  },
  "language_info": {
   "codemirror_mode": {
    "name": "ipython",
    "version": 2
   },
   "file_extension": ".py",
   "mimetype": "text/x-python",
   "name": "python",
   "nbconvert_exporter": "python",
   "pygments_lexer": "ipython2",
   "version": "2.7.11"
  }
 },
 "nbformat": 4,
 "nbformat_minor": 0
}
